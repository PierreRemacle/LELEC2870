{
 "cells": [
  {
   "cell_type": "code",
   "execution_count": 76,
   "metadata": {},
   "outputs": [
    {
     "name": "stdout",
     "output_type": "stream",
     "text": [
      "12584\n",
      "'Weird Al' Yankovic     0.000282\n",
      "120                     0.000282\n",
      "13th Floor Elevators    0.000282\n",
      "21CF                    0.000282\n",
      "2Mn                     0.000282\n",
      "                          ...   \n",
      "Élie Chouraqui          0.000282\n",
      "Élodie Bouchez          0.000565\n",
      "Émile Gaudreault        0.000282\n",
      "Éric Heumann            0.000565\n",
      "Éva Gárdos              0.000282\n",
      "Length: 12584, dtype: float64\n"
     ]
    }
   ],
   "source": [
    "import plotly.express as px\n",
    "import pandas as pd\n",
    "import numpy as np\n",
    "import matplotlib\n",
    "import matplotlib.pyplot as plt\n",
    "from sklearn.manifold import TSNE\n",
    "from pandas.plotting import scatter_matrix\n",
    "import seaborn as sns\n",
    "\n",
    "X1 = pd.read_csv(\"precomputed1.csv\" )\n",
    "X1.head()\n",
    "X1=X1.drop(\"Unnamed: 0\",axis=1)\n",
    "num_columns = len(X1.columns)\n",
    "print(num_columns)\n",
    "\n",
    "non_zero_perc = X1.astype(bool).sum(axis=0) / len(X1)\n",
    "print(non_zero_perc)"
   ]
  },
  {
   "cell_type": "code",
   "execution_count": 77,
   "metadata": {},
   "outputs": [
    {
     "name": "stdout",
     "output_type": "stream",
     "text": [
      "'Weird Al' Yankovic\n",
      "0.0002824858757062147\n"
     ]
    }
   ],
   "source": [
    "print(non_zero_perc.keys()[0])\n",
    "print(non_zero_perc[0])"
   ]
  },
  {
   "cell_type": "code",
   "execution_count": 78,
   "metadata": {},
   "outputs": [],
   "source": [
    "\n",
    "for i in range (len (non_zero_perc)):\n",
    "    if non_zero_perc[i] < 0.001:\n",
    "        X1.drop(non_zero_perc.keys()[i],axis=1, inplace=True)"
   ]
  },
  {
   "cell_type": "code",
   "execution_count": 79,
   "metadata": {},
   "outputs": [
    {
     "data": {
      "text/html": [
       "<div>\n",
       "<style scoped>\n",
       "    .dataframe tbody tr th:only-of-type {\n",
       "        vertical-align: middle;\n",
       "    }\n",
       "\n",
       "    .dataframe tbody tr th {\n",
       "        vertical-align: top;\n",
       "    }\n",
       "\n",
       "    .dataframe thead th {\n",
       "        text-align: right;\n",
       "    }\n",
       "</style>\n",
       "<table border=\"1\" class=\"dataframe\">\n",
       "  <thead>\n",
       "    <tr style=\"text-align: right;\">\n",
       "      <th></th>\n",
       "      <th>7Art</th>\n",
       "      <th>AL</th>\n",
       "      <th>Aaron Eckhart</th>\n",
       "      <th>Abhishek Bachchan</th>\n",
       "      <th>Abigail Breslin</th>\n",
       "      <th>Abr.</th>\n",
       "      <th>Action</th>\n",
       "      <th>Adam Sandler</th>\n",
       "      <th>Adrien Brody</th>\n",
       "      <th>Adventure</th>\n",
       "      <th>...</th>\n",
       "      <th>Zeit.</th>\n",
       "      <th>n_votes</th>\n",
       "      <th>production_year</th>\n",
       "      <th>ratings</th>\n",
       "      <th>release_year</th>\n",
       "      <th>runtime</th>\n",
       "      <th>tsne_IMG_0</th>\n",
       "      <th>tsne_IMG_1</th>\n",
       "      <th>tsne_TXT_0</th>\n",
       "      <th>tsne_TXT_1</th>\n",
       "    </tr>\n",
       "  </thead>\n",
       "  <tbody>\n",
       "    <tr>\n",
       "      <th>0</th>\n",
       "      <td>0</td>\n",
       "      <td>0</td>\n",
       "      <td>0</td>\n",
       "      <td>0</td>\n",
       "      <td>0</td>\n",
       "      <td>0</td>\n",
       "      <td>0</td>\n",
       "      <td>0</td>\n",
       "      <td>0</td>\n",
       "      <td>3</td>\n",
       "      <td>...</td>\n",
       "      <td>0</td>\n",
       "      <td>92937.0</td>\n",
       "      <td>2010</td>\n",
       "      <td>6.5</td>\n",
       "      <td>2010.0</td>\n",
       "      <td>105</td>\n",
       "      <td>-33.048904</td>\n",
       "      <td>33.799595</td>\n",
       "      <td>-13.869236</td>\n",
       "      <td>-14.432333</td>\n",
       "    </tr>\n",
       "    <tr>\n",
       "      <th>1</th>\n",
       "      <td>0</td>\n",
       "      <td>0</td>\n",
       "      <td>0</td>\n",
       "      <td>0</td>\n",
       "      <td>0</td>\n",
       "      <td>0</td>\n",
       "      <td>3</td>\n",
       "      <td>0</td>\n",
       "      <td>0</td>\n",
       "      <td>0</td>\n",
       "      <td>...</td>\n",
       "      <td>0</td>\n",
       "      <td>11.0</td>\n",
       "      <td>1996</td>\n",
       "      <td>7.9</td>\n",
       "      <td>2014.0</td>\n",
       "      <td>83</td>\n",
       "      <td>52.751656</td>\n",
       "      <td>-41.301567</td>\n",
       "      <td>-27.271257</td>\n",
       "      <td>-19.766323</td>\n",
       "    </tr>\n",
       "    <tr>\n",
       "      <th>2</th>\n",
       "      <td>0</td>\n",
       "      <td>0</td>\n",
       "      <td>0</td>\n",
       "      <td>0</td>\n",
       "      <td>0</td>\n",
       "      <td>0</td>\n",
       "      <td>0</td>\n",
       "      <td>0</td>\n",
       "      <td>0</td>\n",
       "      <td>0</td>\n",
       "      <td>...</td>\n",
       "      <td>0</td>\n",
       "      <td>1345.0</td>\n",
       "      <td>1978</td>\n",
       "      <td>5.9</td>\n",
       "      <td>1978.0</td>\n",
       "      <td>127</td>\n",
       "      <td>12.720545</td>\n",
       "      <td>30.886726</td>\n",
       "      <td>13.191540</td>\n",
       "      <td>-12.381777</td>\n",
       "    </tr>\n",
       "    <tr>\n",
       "      <th>3</th>\n",
       "      <td>0</td>\n",
       "      <td>0</td>\n",
       "      <td>0</td>\n",
       "      <td>0</td>\n",
       "      <td>0</td>\n",
       "      <td>0</td>\n",
       "      <td>0</td>\n",
       "      <td>0</td>\n",
       "      <td>0</td>\n",
       "      <td>0</td>\n",
       "      <td>...</td>\n",
       "      <td>0</td>\n",
       "      <td>4851.0</td>\n",
       "      <td>1994</td>\n",
       "      <td>6.6</td>\n",
       "      <td>1994.0</td>\n",
       "      <td>105</td>\n",
       "      <td>-8.656157</td>\n",
       "      <td>5.724644</td>\n",
       "      <td>29.965462</td>\n",
       "      <td>29.147537</td>\n",
       "    </tr>\n",
       "    <tr>\n",
       "      <th>4</th>\n",
       "      <td>0</td>\n",
       "      <td>0</td>\n",
       "      <td>0</td>\n",
       "      <td>0</td>\n",
       "      <td>0</td>\n",
       "      <td>0</td>\n",
       "      <td>0</td>\n",
       "      <td>0</td>\n",
       "      <td>0</td>\n",
       "      <td>0</td>\n",
       "      <td>...</td>\n",
       "      <td>0</td>\n",
       "      <td>549.0</td>\n",
       "      <td>1982</td>\n",
       "      <td>4.1</td>\n",
       "      <td>1982.0</td>\n",
       "      <td>108</td>\n",
       "      <td>-27.887983</td>\n",
       "      <td>-7.691359</td>\n",
       "      <td>10.637887</td>\n",
       "      <td>5.216100</td>\n",
       "    </tr>\n",
       "  </tbody>\n",
       "</table>\n",
       "<p>5 rows × 891 columns</p>\n",
       "</div>"
      ],
      "text/plain": [
       "   7Art  AL  Aaron Eckhart  Abhishek Bachchan  Abigail Breslin  Abr.  Action  \\\n",
       "0     0   0              0                  0                0     0       0   \n",
       "1     0   0              0                  0                0     0       3   \n",
       "2     0   0              0                  0                0     0       0   \n",
       "3     0   0              0                  0                0     0       0   \n",
       "4     0   0              0                  0                0     0       0   \n",
       "\n",
       "   Adam Sandler  Adrien Brody  Adventure  ...  Zeit.  n_votes  \\\n",
       "0             0             0          3  ...      0  92937.0   \n",
       "1             0             0          0  ...      0     11.0   \n",
       "2             0             0          0  ...      0   1345.0   \n",
       "3             0             0          0  ...      0   4851.0   \n",
       "4             0             0          0  ...      0    549.0   \n",
       "\n",
       "   production_year  ratings  release_year  runtime  tsne_IMG_0  tsne_IMG_1  \\\n",
       "0             2010      6.5        2010.0      105  -33.048904   33.799595   \n",
       "1             1996      7.9        2014.0       83   52.751656  -41.301567   \n",
       "2             1978      5.9        1978.0      127   12.720545   30.886726   \n",
       "3             1994      6.6        1994.0      105   -8.656157    5.724644   \n",
       "4             1982      4.1        1982.0      108  -27.887983   -7.691359   \n",
       "\n",
       "   tsne_TXT_0  tsne_TXT_1  \n",
       "0  -13.869236  -14.432333  \n",
       "1  -27.271257  -19.766323  \n",
       "2   13.191540  -12.381777  \n",
       "3   29.965462   29.147537  \n",
       "4   10.637887    5.216100  \n",
       "\n",
       "[5 rows x 891 columns]"
      ]
     },
     "execution_count": 79,
     "metadata": {},
     "output_type": "execute_result"
    }
   ],
   "source": [
    "X1.head()"
   ]
  },
  {
   "cell_type": "code",
   "execution_count": 80,
   "metadata": {},
   "outputs": [
    {
     "name": "stdout",
     "output_type": "stream",
     "text": [
      "891\n",
      "Index(['7Art', 'AL', 'Aaron Eckhart', 'Abhishek Bachchan', 'Abigail Breslin',\n",
      "       'Abr.', 'Action', 'Adam Sandler', 'Adrien Brody', 'Adventure',\n",
      "       ...\n",
      "       'Zeit.', 'n_votes', 'production_year', 'ratings', 'release_year',\n",
      "       'runtime', 'tsne_IMG_0', 'tsne_IMG_1', 'tsne_TXT_0', 'tsne_TXT_1'],\n",
      "      dtype='object', length=891)\n"
     ]
    }
   ],
   "source": [
    "num_columns = len(X1.columns)\n",
    "print(num_columns)\n",
    "print(X1.columns)"
   ]
  },
  {
   "cell_type": "code",
   "execution_count": 81,
   "metadata": {},
   "outputs": [
    {
     "name": "stdout",
     "output_type": "stream",
     "text": [
      "7Art                 0.004802\n",
      "AL                   0.005650\n",
      "Aaron Eckhart        0.001695\n",
      "Abhishek Bachchan    0.001412\n",
      "Abigail Breslin      0.001412\n",
      "                       ...   \n",
      "runtime              0.999718\n",
      "tsne_IMG_0           1.000000\n",
      "tsne_IMG_1           1.000000\n",
      "tsne_TXT_0           1.000000\n",
      "tsne_TXT_1           1.000000\n",
      "Length: 891, dtype: float64\n"
     ]
    }
   ],
   "source": [
    "non_zero_perc = X1.astype(bool).sum(axis=0) / len(X1)\n",
    "print(non_zero_perc)"
   ]
  },
  {
   "cell_type": "code",
   "execution_count": 82,
   "metadata": {},
   "outputs": [
    {
     "data": {
      "text/plain": [
       "2.888777475206513e+24"
      ]
     },
     "execution_count": 82,
     "metadata": {},
     "output_type": "execute_result"
    }
   ],
   "source": [
    "# Import the necessary libraries\n",
    "from sklearn.linear_model import LinearRegression\n",
    "from sklearn.model_selection import train_test_split\n",
    "\n",
    "# Load the data\n",
    "X = X1\n",
    "y = pd.read_csv(\"Y1.csv\" , header=None , names =[\"revenue\"])\n",
    "\n",
    "\n",
    "# Split the data into a training set and a test set\n",
    "X_train, X_test, y_train, y_test = train_test_split(X, y, test_size=0.1, random_state=42)\n",
    "\n",
    "# Create a linear regression model\n",
    "model = LinearRegression()\n",
    "\n",
    "# Train the model on the training set\n",
    "model.fit(X_train, y_train)\n",
    "\n",
    "\n",
    "# Calculate the accuracy of the predictions\n",
    "y_true = model.predict(X_test)\n",
    "y_pred = y_test\n",
    "from sklearn.metrics import mean_squared_error\n",
    "\n",
    "mean_squared_error(y_true, y_pred)"
   ]
  },
  {
   "cell_type": "code",
   "execution_count": 83,
   "metadata": {},
   "outputs": [
    {
     "name": "stderr",
     "output_type": "stream",
     "text": [
      "/Users/Pierre/.pyenv/versions/3.10.0/lib/python3.10/site-packages/sklearn/neural_network/_multilayer_perceptron.py:702: ConvergenceWarning: Stochastic Optimizer: Maximum iterations (300) reached and the optimization hasn't converged yet.\n",
      "  warnings.warn(\n"
     ]
    },
    {
     "data": {
      "text/plain": [
       "6942865503776208.0"
      ]
     },
     "execution_count": 83,
     "metadata": {},
     "output_type": "execute_result"
    }
   ],
   "source": [
    "from sklearn.neural_network import MLPRegressor\n",
    "from sklearn.datasets import make_classification\n",
    "from sklearn.model_selection import train_test_split\n",
    "X = X1\n",
    "y = pd.read_csv(\"Y1.csv\" , header=None , names =[\"revenue\"])\n",
    "X_train, X_test, y_train, y_test = train_test_split(X, y,test_size=0.1, random_state=42)\n",
    "y_train = np.asarray(y_train[\"revenue\"].values)\n",
    "regr = MLPRegressor(random_state=1, max_iter=300).fit(X_train, y_train)\n",
    "\n",
    "y_true = regr.predict(X_test)\n",
    "y_pred = y_test\n",
    "from sklearn.metrics import mean_squared_error\n",
    "\n",
    "mean_squared_error(y_true, y_pred)"
   ]
  },
  {
   "cell_type": "code",
   "execution_count": 85,
   "metadata": {},
   "outputs": [
    {
     "data": {
      "text/plain": [
       "7128440357118807.0"
      ]
     },
     "execution_count": 85,
     "metadata": {},
     "output_type": "execute_result"
    }
   ],
   "source": [
    "from sklearn.neighbors import KNeighborsRegressor\n",
    "X_train, X_test, y_train, y_test = train_test_split(X, y,test_size=0.1, random_state=42)\n",
    "\n",
    "neigh = KNeighborsRegressor(n_neighbors=2)\n",
    "neigh.fit(X_train,y_train)\n",
    "y_true = neigh.predict(X_test)\n",
    "\n",
    "from sklearn.metrics import mean_squared_error\n",
    "y_pred = y_test\n",
    "mean_squared_error(y_true, y_pred)"
   ]
  },
  {
   "cell_type": "code",
   "execution_count": 86,
   "metadata": {},
   "outputs": [
    {
     "data": {
      "text/plain": [
       "6893906254181166.0"
      ]
     },
     "execution_count": 86,
     "metadata": {},
     "output_type": "execute_result"
    }
   ],
   "source": [
    "from sklearn import tree\n",
    "clf = tree.DecisionTreeRegressor()\n",
    "clf = clf.fit(X_train, y_train)\n",
    "y_true = clf.predict(X_test)\n",
    "\n",
    "from sklearn.metrics import mean_squared_error\n",
    "y_pred = y_test\n",
    "mean_squared_error(y_true, y_pred)"
   ]
  }
 ],
 "metadata": {
  "kernelspec": {
   "display_name": "Python 3",
   "language": "python",
   "name": "python3"
  },
  "language_info": {
   "codemirror_mode": {
    "name": "ipython",
    "version": 3
   },
   "file_extension": ".py",
   "mimetype": "text/x-python",
   "name": "python",
   "nbconvert_exporter": "python",
   "pygments_lexer": "ipython3",
   "version": "3.10.0 (default, Jan 27 2022, 16:46:46) [Clang 13.0.0 (clang-1300.0.29.30)]"
  },
  "orig_nbformat": 4,
  "vscode": {
   "interpreter": {
    "hash": "79723628322897b9239260c86940c93094c84297f20f0a5bf49d580823e5a9d1"
   }
  }
 },
 "nbformat": 4,
 "nbformat_minor": 2
}
